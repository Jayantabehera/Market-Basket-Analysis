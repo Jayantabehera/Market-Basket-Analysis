{
 "cells": [
  {
   "cell_type": "code",
   "execution_count": 49,
   "metadata": {},
   "outputs": [],
   "source": [
    "#INSTALLING SPARK AND PIP PACKAGES\n",
    "!pip install -q findspark\n",
    "import os\n",
    "os.environ[\"JAVA_HOME\"] = \"C:/Program Files/Java/jdk1.8.0_231\"\n",
    "os.environ[\"SPARK_HOME\"] = \"C:/spark-3.0.0-preview2-bin-hadoop2.7\""
   ]
  },
  {
   "cell_type": "code",
   "execution_count": 50,
   "metadata": {},
   "outputs": [],
   "source": [
    "#IMPORTING SPARK SESSION\n",
    "import findspark\n",
    "findspark.init()\n",
    "from pyspark.sql import SparkSession \n",
    "from pyspark.sql import SQLContext"
   ]
  },
  {
   "cell_type": "code",
   "execution_count": 54,
   "metadata": {},
   "outputs": [
    {
     "name": "stdout",
     "output_type": "stream",
     "text": [
      "+-------+------------------+-------+--------+---------+-------+-------+-----+---------+-----+-----------+-----------------+-----------------+------------------+-------------------+--------+-------+\n",
      "|summary|               age|    job| marital|education|default|housing| loan|  contact|month|day_of_week|         duration|         campaign|             pdays|           previous|poutcome|deposit|\n",
      "+-------+------------------+-------+--------+---------+-------+-------+-----+---------+-----+-----------+-----------------+-----------------+------------------+-------------------+--------+-------+\n",
      "|  count|             41188|  41188|   41188|    41188|  41188|  41188|41188|    41188|41188|      41188|            41188|            41188|             41188|              41188|   41188|  41188|\n",
      "|   mean| 40.02406040594348|   null|    null|     null|   null|   null| null|     null| null|       null|258.2850101971448|2.567592502670681| 962.4754540157328|0.17296299893172767|    null|   null|\n",
      "| stddev|10.421249980934045|   null|    null|     null|   null|   null| null|     null| null|       null|259.2792488364655|2.770013542902322|186.91090734474153|0.49490107983929055|    null|   null|\n",
      "|    min|                17| admin.|divorced| basic.4y|     no|     no|   no| cellular|  apr|        fri|                0|                1|                 0|                  0| failure|     no|\n",
      "|    25%|                32|   null|    null|     null|   null|   null| null|     null| null|       null|              102|                1|               999|                  0|    null|   null|\n",
      "|    50%|                38|   null|    null|     null|   null|   null| null|     null| null|       null|              180|                2|               999|                  0|    null|   null|\n",
      "|    75%|                47|   null|    null|     null|   null|   null| null|     null| null|       null|              319|                3|               999|                  0|    null|   null|\n",
      "|    max|                98|unknown| unknown|  unknown|    yes|    yes|  yes|telephone|  sep|        wed|             4918|               56|               999|                  7| success|    yes|\n",
      "+-------+------------------+-------+--------+---------+-------+-------+-----+---------+-----+-----------+-----------------+-----------------+------------------+-------------------+--------+-------+\n",
      "\n"
     ]
    }
   ],
   "source": [
    "spark = SparkSession.builder.appName('ml-bank').getOrCreate()\n",
    "\n",
    "#IMPORTING BANK DATASET AS A SPARK DATA FRAME\n",
    "df = spark.read.csv('D:\\\\Data Mining and Machine Learning 2\\\\Project\\\\bank.csv', header = True, inferSchema = True) \n",
    "\n",
    "#SUMMARISING EACH COLUMN VALUES\n",
    "df.summary().show()"
   ]
  },
  {
   "cell_type": "code",
   "execution_count": 55,
   "metadata": {},
   "outputs": [
    {
     "name": "stdout",
     "output_type": "stream",
     "text": [
      "root\n",
      " |-- age: integer (nullable = true)\n",
      " |-- job: string (nullable = true)\n",
      " |-- marital: string (nullable = true)\n",
      " |-- education: string (nullable = true)\n",
      " |-- default: string (nullable = true)\n",
      " |-- housing: string (nullable = true)\n",
      " |-- loan: string (nullable = true)\n",
      " |-- contact: string (nullable = true)\n",
      " |-- month: string (nullable = true)\n",
      " |-- day_of_week: string (nullable = true)\n",
      " |-- duration: integer (nullable = true)\n",
      " |-- campaign: integer (nullable = true)\n",
      " |-- pdays: integer (nullable = true)\n",
      " |-- previous: integer (nullable = true)\n",
      " |-- poutcome: string (nullable = true)\n",
      " |-- deposit: string (nullable = true)\n",
      "\n",
      "+---+---------+-------+-----------+-------+-------+----+---------+-----+-----------+--------+--------+-----+--------+-----------+-------+\n",
      "|age|      job|marital|  education|default|housing|loan|  contact|month|day_of_week|duration|campaign|pdays|previous|   poutcome|deposit|\n",
      "+---+---------+-------+-----------+-------+-------+----+---------+-----+-----------+--------+--------+-----+--------+-----------+-------+\n",
      "| 56|housemaid|married|   basic.4y|     no|     no|  no|telephone|  may|        mon|     261|       1|  999|       0|nonexistent|     no|\n",
      "| 57| services|married|high.school|unknown|     no|  no|telephone|  may|        mon|     149|       1|  999|       0|nonexistent|     no|\n",
      "| 37| services|married|high.school|     no|    yes|  no|telephone|  may|        mon|     226|       1|  999|       0|nonexistent|     no|\n",
      "| 40|   admin.|married|   basic.6y|     no|     no|  no|telephone|  may|        mon|     151|       1|  999|       0|nonexistent|     no|\n",
      "| 56| services|married|high.school|     no|     no| yes|telephone|  may|        mon|     307|       1|  999|       0|nonexistent|     no|\n",
      "+---+---------+-------+-----------+-------+-------+----+---------+-----+-----------+--------+--------+-----+--------+-----------+-------+\n",
      "only showing top 5 rows\n",
      "\n"
     ]
    }
   ],
   "source": [
    "# CHECKING DATA DISTRIBUTION\n",
    "df.printSchema() \n",
    "df.show(5)"
   ]
  },
  {
   "cell_type": "code",
   "execution_count": 64,
   "metadata": {},
   "outputs": [
    {
     "name": "stdout",
     "output_type": "stream",
     "text": [
      "+---+---------+-------+-----------+-------+-------+----+---------+-----+--------+-----------+-------+\n",
      "|age|      job|marital|  education|default|housing|loan|  contact|pdays|previous|   poutcome|deposit|\n",
      "+---+---------+-------+-----------+-------+-------+----+---------+-----+--------+-----------+-------+\n",
      "| 56|housemaid|married|   basic.4y|     no|     no|  no|telephone|  999|       0|nonexistent|     no|\n",
      "| 57| services|married|high.school|unknown|     no|  no|telephone|  999|       0|nonexistent|     no|\n",
      "| 37| services|married|high.school|     no|    yes|  no|telephone|  999|       0|nonexistent|     no|\n",
      "| 40|   admin.|married|   basic.6y|     no|     no|  no|telephone|  999|       0|nonexistent|     no|\n",
      "| 56| services|married|high.school|     no|     no| yes|telephone|  999|       0|nonexistent|     no|\n",
      "+---+---------+-------+-----------+-------+-------+----+---------+-----+--------+-----------+-------+\n",
      "only showing top 5 rows\n",
      "\n"
     ]
    }
   ],
   "source": [
    "#Select features\n",
    "#Select features ('age', 'job', 'marital', 'education', 'default', 'balance', 'housing', 'loan', 'campaign', 'pdays', 'previous', 'poutcome', 'deposit') as df2\n",
    "df2=df.select('age', 'job', 'marital', 'education', 'default', 'housing', 'loan', 'contact', 'pdays', 'previous', 'poutcome', 'deposit')\n",
    "df2.show(5)\n",
    "cols=df2.columns"
   ]
  },
  {
   "cell_type": "code",
   "execution_count": 67,
   "metadata": {},
   "outputs": [],
   "source": [
    "from pyspark.sql import SparkSession\n",
    "spark = SparkSession.builder.appName('SQL').getOrCreate()\n",
    "\n",
    "#REGISTERING DF2 AS SQL TABLE NAMED \"BANK\"\n",
    "df2.registerTempTable(\"bank\") \n",
    "\n",
    "#FILTERING UNKNOWN VALUES USING FROM ALL THE COLUMNS USING \"AND\" \"OR\" LOGIC USING SPARKSQL\n",
    "sqlfilter=spark.sql(\"SELECT * FROM bank WHERE job!='unknown' AND education!='unknown' AND marital!='unknown' AND loan!='unknown' AND (poutcome == 'failure' OR poutcome == 'success')\")"
   ]
  },
  {
   "cell_type": "code",
   "execution_count": 70,
   "metadata": {},
   "outputs": [],
   "source": [
    "#STORING IN NEW VARIABLE TO AVOID 'NONETYPE ERROR'\n",
    "df2=sqlfilter"
   ]
  },
  {
   "cell_type": "code",
   "execution_count": 73,
   "metadata": {},
   "outputs": [
    {
     "name": "stdout",
     "output_type": "stream",
     "text": [
      "+---+-------------+--------+-------------------+-------+-------+----+---------+-----+--------+--------+-------+\n",
      "|age|          job| marital|          education|default|housing|loan|  contact|pdays|previous|poutcome|deposit|\n",
      "+---+-------------+--------+-------------------+-------+-------+----+---------+-----+--------+--------+-------+\n",
      "| 40|     services| married|        high.school|     no|    yes|  no|telephone|  999|       1| failure|    yes|\n",
      "| 36|       admin.| married|  university.degree|     no|    yes|  no|telephone|  999|       1| failure|     no|\n",
      "| 36|       admin.| married|        high.school|     no|    yes|  no|telephone|  999|       1| failure|    yes|\n",
      "| 37|       admin.| married|  university.degree|     no|    yes|  no|telephone|    6|       1| success|     no|\n",
      "| 29|self-employed| married|  university.degree|     no|    yes|  no|telephone|  999|       1| failure|     no|\n",
      "| 42|   technician|divorced|professional.course|     no|     no|  no| cellular|  999|       1| failure|     no|\n",
      "| 34|       admin.|  single|        high.school|     no|     no|  no| cellular|  999|       1| failure|     no|\n",
      "| 44|   management| married|  university.degree|     no|    yes|  no| cellular|  999|       1| failure|     no|\n",
      "| 52|       admin.| married|  university.degree|     no|    yes| yes| cellular|  999|       1| failure|     no|\n",
      "| 41| entrepreneur| married|  university.degree|     no|    yes|  no| cellular|  999|       1| failure|     no|\n",
      "| 44|      retired|  single|           basic.9y|     no|     no|  no| cellular|  999|       1| failure|     no|\n",
      "| 36|   unemployed|divorced|        high.school|     no|    yes| yes| cellular|  999|       1| failure|     no|\n",
      "| 50| entrepreneur| married|  university.degree|     no|     no|  no| cellular|  999|       1| failure|     no|\n",
      "| 41|       admin.| married|        high.school|     no|     no|  no| cellular|  999|       1| failure|     no|\n",
      "| 50|  blue-collar| married|           basic.6y|unknown|     no| yes| cellular|  999|       1| failure|     no|\n",
      "| 43|     services| married|           basic.4y|     no|     no|  no| cellular|  999|       1| failure|     no|\n",
      "| 31|   technician|  single|  university.degree|     no|    yes|  no| cellular|  999|       1| failure|     no|\n",
      "| 39|       admin.| married|  university.degree|     no|    yes|  no| cellular|  999|       1| failure|     no|\n",
      "| 39|self-employed| married|  university.degree|     no|     no|  no| cellular|  999|       1| failure|     no|\n",
      "| 48|  blue-collar|divorced|professional.course|     no|    yes|  no| cellular|  999|       1| failure|     no|\n",
      "+---+-------------+--------+-------------------+-------+-------+----+---------+-----+--------+--------+-------+\n",
      "only showing top 20 rows\n",
      "\n",
      "+-------+-----------------+----------+--------+-----------------+-------+-------+----+---------+-----------------+------------------+--------+-------+\n",
      "|summary|              age|       job| marital|        education|default|housing|loan|  contact|            pdays|          previous|poutcome|deposit|\n",
      "+-------+-----------------+----------+--------+-----------------+-------+-------+----+---------+-----------------+------------------+--------+-------+\n",
      "|  count|             5179|      5179|    5179|             5179|   5179|   5179|5179|     5179|             5179|              5179|    5179|   5179|\n",
      "|   mean|40.38694728712107|      null|    null|             null|   null|   null|null|     null|737.0793589496042|1.2554547209886078|    null|   null|\n",
      "| stddev|12.32466491722446|      null|    null|             null|   null|   null|null|     null|437.6470564268952|0.6244400201511208|    null|   null|\n",
      "|    min|               17|    admin.|divorced|         basic.4y|     no|     no|  no| cellular|                0|                 1| failure|     no|\n",
      "|    25%|               32|      null|    null|             null|   null|   null|null|     null|               13|                 1|    null|   null|\n",
      "|    50%|               37|      null|    null|             null|   null|   null|null|     null|              999|                 1|    null|   null|\n",
      "|    75%|               48|      null|    null|             null|   null|   null|null|     null|              999|                 1|    null|   null|\n",
      "|    max|               98|unemployed|  single|university.degree|    yes|    yes| yes|telephone|              999|                 7| success|    yes|\n",
      "+-------+-----------------+----------+--------+-----------------+-------+-------+----+---------+-----------------+------------------+--------+-------+\n",
      "\n"
     ]
    }
   ],
   "source": [
    "#DISPLAYING AND SUMMARIZING NEW DATA FRAME\n",
    "df2.show()\n",
    "df2.summary().show()"
   ]
  },
  {
   "cell_type": "code",
   "execution_count": 101,
   "metadata": {},
   "outputs": [],
   "source": [
    "from pyspark.ml.feature import OneHotEncoderEstimator, StringIndexer, VectorAssembler"
   ]
  },
  {
   "cell_type": "code",
   "execution_count": 102,
   "metadata": {},
   "outputs": [],
   "source": [
    "#SELECTING CATEGORICAL COLUMNS ONLY\n",
    "categoricalColumns = ['job', 'marital', 'education', 'default', 'housing', 'loan', 'poutcome']\n",
    "\n",
    "#CREATING AN EMPTY LIST FOR PIPELINE AND ASSEMBLER\n",
    "stages = []"
   ]
  },
  {
   "cell_type": "code",
   "execution_count": 146,
   "metadata": {},
   "outputs": [
    {
     "name": "stdout",
     "output_type": "stream",
     "text": [
      "StringIndexer_a2365fbe32b0\n",
      "[StringIndexer_8d0853c23c50, OneHotEncoderEstimator_7be0d5f2e01d, StringIndexer_9d230f2addb3, OneHotEncoderEstimator_261f3ea12934, StringIndexer_d775528188e0, OneHotEncoderEstimator_14b535701442, StringIndexer_5457f58f19c1, OneHotEncoderEstimator_f9bb60c20fa3, StringIndexer_3abed99eae98, OneHotEncoderEstimator_202aa6af19bf, StringIndexer_32fc62d8ca54, OneHotEncoderEstimator_b764d61f0ab6, StringIndexer_55bba65fee1e, OneHotEncoderEstimator_203ec1fe93e2, StringIndexer_899401e14e8c, VectorAssembler_96977b8029fe, StringIndexer_36fad1ee9abd, OneHotEncoderEstimator_27f920f7b0a5, StringIndexer_070f50676409, OneHotEncoderEstimator_dec696806230, StringIndexer_e8d8d4e3510c, OneHotEncoderEstimator_c6e059c1deff, StringIndexer_769ff408ba51, OneHotEncoderEstimator_27a6b2f05d9b, StringIndexer_3494cd69a8c7, OneHotEncoderEstimator_56e76d39492d, StringIndexer_7f967c4b9cfe, OneHotEncoderEstimator_718436f1c282, StringIndexer_b579aa60e0f9, OneHotEncoderEstimator_877936229a92, StringIndexer_a2365fbe32b0]\n"
     ]
    }
   ],
   "source": [
    "#APPLYING FOR LOOP TO INDEX AND ENCODE ALL THE SELECTED COLUMNS\n",
    "#APPLYING STRING INDEXER TO ALL THE CATEGORICAL COLUMNS AND STORING IT IN A NEW COLUMN WITH +INDEXED\n",
    "#APPLYING ONE HOT ENCODER TO ALL THE INDEXED COLUMNS AND STORING IT IN A NEW COLUMN WITH +ENCODED\n",
    "\n",
    "for categoricalCol in categoricalColumns:\n",
    "    stringIndexer = StringIndexer(inputCol = categoricalCol, outputCol = categoricalCol + '_indexed')\n",
    "    encoder = OneHotEncoderEstimator(inputCols=[stringIndexer.getOutputCol()], outputCols=[categoricalCol + \"_encoded\"])\n",
    "    stages += [stringIndexer, encoder]\n",
    "    \n",
    "#INDEXING PREDICTOR COLUMN 'DEPOSIT' AS LABEL AND FEATURES    \n",
    "label_stringIdx = StringIndexer(inputCol = 'deposit', outputCol = 'label')\n",
    "\n",
    "#CREATING STAGES FOR BOTH NUMERICAL AND CATEGORICAL COLUMNS\n",
    "stages += [label_stringIdx]\n",
    "print(stages)\n",
    "numericCols = ['age', 'pdays', 'previous']\n",
    "\n",
    "#ADDING BOTH TO ASSEMBLER\n",
    "assemblerInputs = [c + \"_encoded\" for c in categoricalColumns] + numericCols\n",
    "\n",
    "#VECTORIZING TO CREATE A NEW FEATURES COLUMN WITH INDEXED AND ENCODED VALUES\n",
    "assembler = VectorAssembler(inputCols=assemblerInputs, outputCol=\"features\")\n",
    "stages += [assembler]"
   ]
  },
  {
   "cell_type": "code",
   "execution_count": 104,
   "metadata": {},
   "outputs": [],
   "source": [
    "from pyspark.ml import Pipeline"
   ]
  },
  {
   "cell_type": "code",
   "execution_count": 105,
   "metadata": {},
   "outputs": [],
   "source": [
    "#COMBINING ALL THE STAGES INTO ONE, FITTING DF2 AND TRANSFORMING IT\n",
    "\n",
    "pipeline = Pipeline(stages = stages)\n",
    "pipelineModel = pipeline.fit(df2)\n",
    "df2 = pipelineModel.transform(df2)"
   ]
  },
  {
   "cell_type": "code",
   "execution_count": 107,
   "metadata": {},
   "outputs": [],
   "source": [
    "#STORING IN NEW VARIABLE TO AVOID 'NONETYPE ERROR'\n",
    "df3=df2"
   ]
  },
  {
   "cell_type": "code",
   "execution_count": 108,
   "metadata": {},
   "outputs": [
    {
     "name": "stdout",
     "output_type": "stream",
     "text": [
      "+---+-------------+-------+-----------------+-------+-------+----+---------+-----+--------+--------+-------+-----------+--------------+---------------+---------------+-----------------+-----------------+---------------+---------------+---------------+---------------+------------+-------------+----------------+----------------+-----+--------------------+\n",
      "|age|          job|marital|        education|default|housing|loan|  contact|pdays|previous|poutcome|deposit|job_indexed|   job_encoded|marital_indexed|marital_encoded|education_indexed|education_encoded|default_indexed|default_encoded|housing_indexed|housing_encoded|loan_indexed| loan_encoded|poutcome_indexed|poutcome_encoded|label|            features|\n",
      "+---+-------------+-------+-----------------+-------+-------+----+---------+-----+--------+--------+-------+-----------+--------------+---------------+---------------+-----------------+-----------------+---------------+---------------+---------------+---------------+------------+-------------+----------------+----------------+-----+--------------------+\n",
      "| 40|     services|married|      high.school|     no|    yes|  no|telephone|  999|       1| failure|    yes|        3.0|(10,[3],[1.0])|            0.0|  (2,[0],[1.0])|              1.0|    (6,[1],[1.0])|            0.0|  (2,[0],[1.0])|            0.0|  (1,[0],[1.0])|         0.0|(1,[0],[1.0])|             0.0|   (1,[0],[1.0])|  1.0|(26,[3,10,13,18,2...|\n",
      "| 36|       admin.|married|university.degree|     no|    yes|  no|telephone|  999|       1| failure|     no|        0.0|(10,[0],[1.0])|            0.0|  (2,[0],[1.0])|              0.0|    (6,[0],[1.0])|            0.0|  (2,[0],[1.0])|            0.0|  (1,[0],[1.0])|         0.0|(1,[0],[1.0])|             0.0|   (1,[0],[1.0])|  0.0|(26,[0,10,12,18,2...|\n",
      "| 36|       admin.|married|      high.school|     no|    yes|  no|telephone|  999|       1| failure|    yes|        0.0|(10,[0],[1.0])|            0.0|  (2,[0],[1.0])|              1.0|    (6,[1],[1.0])|            0.0|  (2,[0],[1.0])|            0.0|  (1,[0],[1.0])|         0.0|(1,[0],[1.0])|             0.0|   (1,[0],[1.0])|  1.0|(26,[0,10,13,18,2...|\n",
      "| 37|       admin.|married|university.degree|     no|    yes|  no|telephone|    6|       1| success|     no|        0.0|(10,[0],[1.0])|            0.0|  (2,[0],[1.0])|              0.0|    (6,[0],[1.0])|            0.0|  (2,[0],[1.0])|            0.0|  (1,[0],[1.0])|         0.0|(1,[0],[1.0])|             1.0|       (1,[],[])|  0.0|(26,[0,10,12,18,2...|\n",
      "| 29|self-employed|married|university.degree|     no|    yes|  no|telephone|  999|       1| failure|     no|        8.0|(10,[8],[1.0])|            0.0|  (2,[0],[1.0])|              0.0|    (6,[0],[1.0])|            0.0|  (2,[0],[1.0])|            0.0|  (1,[0],[1.0])|         0.0|(1,[0],[1.0])|             0.0|   (1,[0],[1.0])|  0.0|(26,[8,10,12,18,2...|\n",
      "+---+-------------+-------+-----------------+-------+-------+----+---------+-----+--------+--------+-------+-----------+--------------+---------------+---------------+-----------------+-----------------+---------------+---------------+---------------+---------------+------------+-------------+----------------+----------------+-----+--------------------+\n",
      "only showing top 5 rows\n",
      "\n"
     ]
    }
   ],
   "source": [
    "df3.show(5)"
   ]
  },
  {
   "cell_type": "code",
   "execution_count": 109,
   "metadata": {},
   "outputs": [
    {
     "name": "stdout",
     "output_type": "stream",
     "text": [
      "root\n",
      " |-- label: double (nullable = false)\n",
      " |-- features: vector (nullable = true)\n",
      " |-- age: integer (nullable = true)\n",
      " |-- job: string (nullable = true)\n",
      " |-- marital: string (nullable = true)\n",
      " |-- education: string (nullable = true)\n",
      " |-- default: string (nullable = true)\n",
      " |-- housing: string (nullable = true)\n",
      " |-- loan: string (nullable = true)\n",
      " |-- contact: string (nullable = true)\n",
      " |-- pdays: integer (nullable = true)\n",
      " |-- previous: integer (nullable = true)\n",
      " |-- poutcome: string (nullable = true)\n",
      " |-- deposit: string (nullable = true)\n",
      "\n"
     ]
    }
   ],
   "source": [
    "#ADDING ALL THE ORIGINAL COLUMNS TO THE NEW DATA FRAME\n",
    "selectedCols = ['label', 'features'] + cols\n",
    "df3 = df3.select(selectedCols)\n",
    "\n",
    "#DATA DISTRIBUTION OF NEW DATA FRAME\n",
    "df3.printSchema()"
   ]
  },
  {
   "cell_type": "code",
   "execution_count": 110,
   "metadata": {},
   "outputs": [
    {
     "name": "stdout",
     "output_type": "stream",
     "text": [
      "+-----+--------------------+---+-------------+-------+-----------------+-------+-------+----+---------+-----+--------+--------+-------+\n",
      "|label|            features|age|          job|marital|        education|default|housing|loan|  contact|pdays|previous|poutcome|deposit|\n",
      "+-----+--------------------+---+-------------+-------+-----------------+-------+-------+----+---------+-----+--------+--------+-------+\n",
      "|  1.0|(26,[3,10,13,18,2...| 40|     services|married|      high.school|     no|    yes|  no|telephone|  999|       1| failure|    yes|\n",
      "|  0.0|(26,[0,10,12,18,2...| 36|       admin.|married|university.degree|     no|    yes|  no|telephone|  999|       1| failure|     no|\n",
      "|  1.0|(26,[0,10,13,18,2...| 36|       admin.|married|      high.school|     no|    yes|  no|telephone|  999|       1| failure|    yes|\n",
      "|  0.0|(26,[0,10,12,18,2...| 37|       admin.|married|university.degree|     no|    yes|  no|telephone|    6|       1| success|     no|\n",
      "|  0.0|(26,[8,10,12,18,2...| 29|self-employed|married|university.degree|     no|    yes|  no|telephone|  999|       1| failure|     no|\n",
      "+-----+--------------------+---+-------------+-------+-----------------+-------+-------+----+---------+-----+--------+--------+-------+\n",
      "only showing top 5 rows\n",
      "\n"
     ]
    }
   ],
   "source": [
    "df3.show(5)"
   ]
  },
  {
   "cell_type": "code",
   "execution_count": 111,
   "metadata": {},
   "outputs": [],
   "source": [
    "#Normalisation\n",
    "\n",
    "#SELECTING ONLY THE ENCODED COLUMNS TO NORMALIZE  \n",
    "from pyspark.ml.feature import MinMaxScaler\n",
    "norm_vars=['features','job_encoded','marital_encoded','loan_encoded','default_encoded','education_encoded','housing_encoded','poutcome_encoded']\n",
    "\n",
    "#USING MIN-MAX SCALER FUNCTION TO SCLE IT DOWN BETWEEN 0 AND 1\n",
    "scaler = [MinMaxScaler(inputCol=scale_features ,outputCol=scale_features+ \"_SCALED\") for scale_features in norm_vars]\n",
    "\n",
    "#PIPELINING FOR ALL THE COLUMNS AND FITTING IT AGAIN TO DF2\n",
    "pipeline = Pipeline(stages=scaler)\n",
    "scalerModel =  pipeline.fit(df2)\n",
    "scaledData = scalerModel.transform(df2)"
   ]
  },
  {
   "cell_type": "code",
   "execution_count": 114,
   "metadata": {},
   "outputs": [
    {
     "name": "stdout",
     "output_type": "stream",
     "text": [
      "+---+-------------+-------+-----------------+-------+-------+----+---------+-----+--------+--------+-------+-----------+--------------+---------------+---------------+-----------------+-----------------+---------------+---------------+---------------+---------------+------------+-------------+----------------+----------------+-----+--------------------+--------------------+--------------------+----------------------+-------------------+----------------------+------------------------+----------------------+-----------------------+\n",
      "|age|          job|marital|        education|default|housing|loan|  contact|pdays|previous|poutcome|deposit|job_indexed|   job_encoded|marital_indexed|marital_encoded|education_indexed|education_encoded|default_indexed|default_encoded|housing_indexed|housing_encoded|loan_indexed| loan_encoded|poutcome_indexed|poutcome_encoded|label|            features|     features_SCALED|  job_encoded_SCALED|marital_encoded_SCALED|loan_encoded_SCALED|default_encoded_SCALED|education_encoded_SCALED|housing_encoded_SCALED|poutcome_encoded_SCALED|\n",
      "+---+-------------+-------+-----------------+-------+-------+----+---------+-----+--------+--------+-------+-----------+--------------+---------------+---------------+-----------------+-----------------+---------------+---------------+---------------+---------------+------------+-------------+----------------+----------------+-----+--------------------+--------------------+--------------------+----------------------+-------------------+----------------------+------------------------+----------------------+-----------------------+\n",
      "| 40|     services|married|      high.school|     no|    yes|  no|telephone|  999|       1| failure|    yes|        3.0|(10,[3],[1.0])|            0.0|  (2,[0],[1.0])|              1.0|    (6,[1],[1.0])|            0.0|  (2,[0],[1.0])|            0.0|  (1,[0],[1.0])|         0.0|(1,[0],[1.0])|             0.0|   (1,[0],[1.0])|  1.0|(26,[3,10,13,18,2...|[0.0,0.0,0.0,1.0,...|[0.0,0.0,0.0,1.0,...|             [1.0,0.0]|              [1.0]|             [1.0,0.0]|    [0.0,1.0,0.0,0.0,...|                 [1.0]|                  [1.0]|\n",
      "| 36|       admin.|married|university.degree|     no|    yes|  no|telephone|  999|       1| failure|     no|        0.0|(10,[0],[1.0])|            0.0|  (2,[0],[1.0])|              0.0|    (6,[0],[1.0])|            0.0|  (2,[0],[1.0])|            0.0|  (1,[0],[1.0])|         0.0|(1,[0],[1.0])|             0.0|   (1,[0],[1.0])|  0.0|(26,[0,10,12,18,2...|[1.0,0.0,0.0,0.0,...|[1.0,0.0,0.0,0.0,...|             [1.0,0.0]|              [1.0]|             [1.0,0.0]|    [1.0,0.0,0.0,0.0,...|                 [1.0]|                  [1.0]|\n",
      "| 36|       admin.|married|      high.school|     no|    yes|  no|telephone|  999|       1| failure|    yes|        0.0|(10,[0],[1.0])|            0.0|  (2,[0],[1.0])|              1.0|    (6,[1],[1.0])|            0.0|  (2,[0],[1.0])|            0.0|  (1,[0],[1.0])|         0.0|(1,[0],[1.0])|             0.0|   (1,[0],[1.0])|  1.0|(26,[0,10,13,18,2...|[1.0,0.0,0.0,0.0,...|[1.0,0.0,0.0,0.0,...|             [1.0,0.0]|              [1.0]|             [1.0,0.0]|    [0.0,1.0,0.0,0.0,...|                 [1.0]|                  [1.0]|\n",
      "| 37|       admin.|married|university.degree|     no|    yes|  no|telephone|    6|       1| success|     no|        0.0|(10,[0],[1.0])|            0.0|  (2,[0],[1.0])|              0.0|    (6,[0],[1.0])|            0.0|  (2,[0],[1.0])|            0.0|  (1,[0],[1.0])|         0.0|(1,[0],[1.0])|             1.0|       (1,[],[])|  0.0|(26,[0,10,12,18,2...|[1.0,0.0,0.0,0.0,...|[1.0,0.0,0.0,0.0,...|             [1.0,0.0]|              [1.0]|             [1.0,0.0]|    [1.0,0.0,0.0,0.0,...|                 [1.0]|                  [0.0]|\n",
      "| 29|self-employed|married|university.degree|     no|    yes|  no|telephone|  999|       1| failure|     no|        8.0|(10,[8],[1.0])|            0.0|  (2,[0],[1.0])|              0.0|    (6,[0],[1.0])|            0.0|  (2,[0],[1.0])|            0.0|  (1,[0],[1.0])|         0.0|(1,[0],[1.0])|             0.0|   (1,[0],[1.0])|  0.0|(26,[8,10,12,18,2...|[0.0,0.0,0.0,0.0,...|[0.0,0.0,0.0,0.0,...|             [1.0,0.0]|              [1.0]|             [1.0,0.0]|    [1.0,0.0,0.0,0.0,...|                 [1.0]|                  [1.0]|\n",
      "+---+-------------+-------+-----------------+-------+-------+----+---------+-----+--------+--------+-------+-----------+--------------+---------------+---------------+-----------------+-----------------+---------------+---------------+---------------+---------------+------------+-------------+----------------+----------------+-----+--------------------+--------------------+--------------------+----------------------+-------------------+----------------------+------------------------+----------------------+-----------------------+\n",
      "only showing top 5 rows\n",
      "\n"
     ]
    }
   ],
   "source": [
    "#DISPLAYING ALL THE NORMALIZED VALUES\n",
    "scaledData.show(5)"
   ]
  },
  {
   "cell_type": "code",
   "execution_count": 115,
   "metadata": {},
   "outputs": [],
   "source": [
    "#SELECTING ONLY THE REQUIRED COLUMNS FOR FURTHER SUPERVISED AND UNSUPERVISED LEARNING\n",
    "\n",
    "df4=scaledData.select('deposit','label','features','job_encoded_SCALED','marital_encoded_SCALED','loan_encoded_SCALED','default_encoded_SCALED','education_encoded_SCALED','housing_encoded_SCALED','poutcome_encoded_SCALED','features_SCALED')"
   ]
  },
  {
   "cell_type": "code",
   "execution_count": 116,
   "metadata": {},
   "outputs": [
    {
     "name": "stdout",
     "output_type": "stream",
     "text": [
      "+-------+-----+--------------------+--------------------+----------------------+-------------------+----------------------+------------------------+----------------------+-----------------------+--------------------+\n",
      "|deposit|label|            features|  job_encoded_SCALED|marital_encoded_SCALED|loan_encoded_SCALED|default_encoded_SCALED|education_encoded_SCALED|housing_encoded_SCALED|poutcome_encoded_SCALED|     features_SCALED|\n",
      "+-------+-----+--------------------+--------------------+----------------------+-------------------+----------------------+------------------------+----------------------+-----------------------+--------------------+\n",
      "|    yes|  1.0|(26,[3,10,13,18,2...|[0.0,0.0,0.0,1.0,...|             [1.0,0.0]|              [1.0]|             [1.0,0.0]|    [0.0,1.0,0.0,0.0,...|                 [1.0]|                  [1.0]|[0.0,0.0,0.0,1.0,...|\n",
      "|     no|  0.0|(26,[0,10,12,18,2...|[1.0,0.0,0.0,0.0,...|             [1.0,0.0]|              [1.0]|             [1.0,0.0]|    [1.0,0.0,0.0,0.0,...|                 [1.0]|                  [1.0]|[1.0,0.0,0.0,0.0,...|\n",
      "|    yes|  1.0|(26,[0,10,13,18,2...|[1.0,0.0,0.0,0.0,...|             [1.0,0.0]|              [1.0]|             [1.0,0.0]|    [0.0,1.0,0.0,0.0,...|                 [1.0]|                  [1.0]|[1.0,0.0,0.0,0.0,...|\n",
      "|     no|  0.0|(26,[0,10,12,18,2...|[1.0,0.0,0.0,0.0,...|             [1.0,0.0]|              [1.0]|             [1.0,0.0]|    [1.0,0.0,0.0,0.0,...|                 [1.0]|                  [0.0]|[1.0,0.0,0.0,0.0,...|\n",
      "|     no|  0.0|(26,[8,10,12,18,2...|[0.0,0.0,0.0,0.0,...|             [1.0,0.0]|              [1.0]|             [1.0,0.0]|    [1.0,0.0,0.0,0.0,...|                 [1.0]|                  [1.0]|[0.0,0.0,0.0,0.0,...|\n",
      "+-------+-----+--------------------+--------------------+----------------------+-------------------+----------------------+------------------------+----------------------+-----------------------+--------------------+\n",
      "only showing top 5 rows\n",
      "\n"
     ]
    }
   ],
   "source": [
    "df4.show(5)"
   ]
  },
  {
   "cell_type": "code",
   "execution_count": 117,
   "metadata": {},
   "outputs": [
    {
     "data": {
      "text/plain": [
       "[Row(age=40, job='services', marital='married', education='high.school', default='no', housing='yes', loan='no', contact='telephone', pdays=999, previous=1, poutcome='failure', deposit='yes', job_indexed=3.0, job_encoded=SparseVector(10, {3: 1.0}), marital_indexed=0.0, marital_encoded=SparseVector(2, {0: 1.0}), education_indexed=1.0, education_encoded=SparseVector(6, {1: 1.0}), default_indexed=0.0, default_encoded=SparseVector(2, {0: 1.0}), housing_indexed=0.0, housing_encoded=SparseVector(1, {0: 1.0}), loan_indexed=0.0, loan_encoded=SparseVector(1, {0: 1.0}), poutcome_indexed=0.0, poutcome_encoded=SparseVector(1, {0: 1.0}), label=1.0, features=SparseVector(26, {3: 1.0, 10: 1.0, 13: 1.0, 18: 1.0, 20: 1.0, 21: 1.0, 22: 1.0, 23: 40.0, 24: 999.0, 25: 1.0}))]"
      ]
     },
     "execution_count": 117,
     "metadata": {},
     "output_type": "execute_result"
    }
   ],
   "source": [
    "df2.take(1)"
   ]
  },
  {
   "cell_type": "code",
   "execution_count": 127,
   "metadata": {},
   "outputs": [],
   "source": [
    "#Unsupervised learning\n",
    "#K-means\n",
    "\n",
    "# Perform unsupervised learning on df2 with k-means \n",
    "# You can use whole df2 as both training and testing data, \n",
    "# Evaluate the clustering result using Accuracy.  \n",
    "from pyspark.ml.clustering import KMeans\n",
    "from pyspark.ml.evaluation import ClusteringEvaluator\n",
    "import matplotlib.pyplot as plt  \n",
    "from sklearn.datasets.samples_generator import make_blobs \n",
    "from pyspark.ml.evaluation import MulticlassClassificationEvaluator\n",
    "from pyspark.ml.evaluation import BinaryClassificationEvaluator \n",
    "%matplotlib inline"
   ]
  },
  {
   "cell_type": "code",
   "execution_count": 128,
   "metadata": {},
   "outputs": [
    {
     "name": "stdout",
     "output_type": "stream",
     "text": [
      "+-----+----------+\n",
      "|label|prediction|\n",
      "+-----+----------+\n",
      "|  1.0|         0|\n",
      "|  0.0|         0|\n",
      "|  1.0|         0|\n",
      "|  0.0|         1|\n",
      "|  0.0|         0|\n",
      "|  0.0|         0|\n",
      "|  0.0|         0|\n",
      "|  0.0|         0|\n",
      "|  0.0|         0|\n",
      "|  0.0|         0|\n",
      "+-----+----------+\n",
      "only showing top 10 rows\n",
      "\n"
     ]
    }
   ],
   "source": [
    "from pyspark.ml import Pipeline\n",
    "\n",
    "#PERFORMING KMEANS CLUSTERING ON DF2 DATA FRAME\n",
    "#WHOLE DATA IS USED AS TRAINING AND TESTING DATA AS IT IS UNSUPERVISED\n",
    "kmeans = KMeans().setK(2).setSeed(742).setFeaturesCol(\"features\")\n",
    "model = kmeans.fit(df4)\n",
    "predictions = model.transform(df4)\n",
    "predictions.select('label', 'prediction').show(10)"
   ]
  },
  {
   "cell_type": "code",
   "execution_count": 129,
   "metadata": {},
   "outputs": [
    {
     "name": "stdout",
     "output_type": "stream",
     "text": [
      "With K=3\n",
      "Within Set Sum of Squared Errors = 598139.5340484071\n",
      "------------------------------------------------------------\n",
      "With K=2\n",
      "Within Set Sum of Squared Errors = 817220.0243732648\n"
     ]
    }
   ],
   "source": [
    "#APPLYING KMEANS USING ELBOW METHOD TO GET THE OPTIMAL VALUE OF K TO HELP IN ANALYSIS IN REPORT\n",
    "\n",
    "kmeans3=KMeans(featuresCol=\"features\",k=3)\n",
    "kmeans2=KMeans(featuresCol=\"features\",k=2)\n",
    "model_k3 = kmeans3.fit(df4)\n",
    "model_k2 = kmeans2.fit(df4)\n",
    "wssse_k3 = model_k3.computeCost(df4)\n",
    "wssse_k2 = model_k2.computeCost(df4)\n",
    "print(\"With K=3\")\n",
    "print(\"Within Set Sum of Squared Errors = \" + str(wssse_k3))\n",
    "print('--'*30)\n",
    "print(\"With K=2\")\n",
    "print(\"Within Set Sum of Squared Errors = \" + str(wssse_k2))"
   ]
  },
  {
   "cell_type": "code",
   "execution_count": 130,
   "metadata": {},
   "outputs": [
    {
     "name": "stdout",
     "output_type": "stream",
     "text": [
      "With K=2\n",
      "Within Set Sum of Squared Errors = 14126.18777183132\n",
      "------------------------------------------------------------\n",
      "With K=3\n",
      "Within Set Sum of Squared Errors = 12746.026791241065\n",
      "------------------------------------------------------------\n",
      "With K=4\n",
      "Within Set Sum of Squared Errors = 11716.132567384975\n",
      "------------------------------------------------------------\n",
      "With K=5\n",
      "Within Set Sum of Squared Errors = 10794.14393627808\n",
      "------------------------------------------------------------\n",
      "With K=6\n",
      "Within Set Sum of Squared Errors = 10718.897757010047\n",
      "------------------------------------------------------------\n",
      "With K=7\n",
      "Within Set Sum of Squared Errors = 10401.822345933444\n",
      "------------------------------------------------------------\n",
      "With K=8\n",
      "Within Set Sum of Squared Errors = 9738.289926510526\n",
      "------------------------------------------------------------\n"
     ]
    }
   ],
   "source": [
    "#APPLYING FOR LOOP FOR REST OF THE VALUES OF K\n",
    "for k in range(2,9):\n",
    "    kmeans = KMeans(featuresCol='features_SCALED',k=k)\n",
    "    models = kmeans.fit(df4)\n",
    "    wssse = models.computeCost(df4)\n",
    "    print(\"With K={}\".format(k))\n",
    "    print(\"Within Set Sum of Squared Errors = \" + str(wssse))\n",
    "    print('--'*30)"
   ]
  },
  {
   "cell_type": "code",
   "execution_count": 131,
   "metadata": {},
   "outputs": [
    {
     "name": "stdout",
     "output_type": "stream",
     "text": [
      "Cluster Centers: \n",
      "[2.60687123e-01 2.18725413e-01 1.45292421e-01 1.08575924e-01\n",
      " 7.73669027e-02 5.03540519e-02 2.72751115e-02 3.75032783e-02\n",
      " 3.51429321e-02 2.22921584e-02 5.65171781e-01 3.14188303e-01\n",
      " 3.02648833e-01 2.74586939e-01 1.57094152e-01 1.23524784e-01\n",
      " 8.60215054e-02 5.58615264e-02 8.76212956e-01 1.23524784e-01\n",
      " 5.71466037e-01 8.44217152e-01 1.00000000e+00 3.98397587e+01\n",
      " 9.99000000e+02 1.11723053e+00]\n",
      "[3.24304539e-01 8.78477306e-02 1.53733529e-01 5.27086384e-02\n",
      " 7.02781845e-02 1.17862372e-01 7.46705710e-02 1.90336750e-02\n",
      " 2.34260615e-02 4.68521230e-02 5.33674963e-01 3.68960469e-01\n",
      " 4.08491947e-01 2.35724744e-01 8.56515373e-02 1.39092240e-01\n",
      " 9.88286969e-02 3.14787701e-02 9.59004392e-01 4.09956076e-02\n",
      " 5.62225476e-01 8.47730600e-01 9.00439239e-02 4.19143485e+01\n",
      " 5.96412884e+00 1.64128843e+00]\n"
     ]
    }
   ],
   "source": [
    "#FINDING CLUSTER CENTRES FOR THE FIRST KMEANS WE HAD APPLIED TO DF2\n",
    "centers = model.clusterCenters()\n",
    "print(\"Cluster Centers: \")\n",
    "for center in centers:\n",
    "    print(center)"
   ]
  },
  {
   "cell_type": "code",
   "execution_count": 132,
   "metadata": {},
   "outputs": [
    {
     "data": {
      "text/plain": [
       "0.8123189804981656"
      ]
     },
     "execution_count": 132,
     "metadata": {},
     "output_type": "execute_result"
    }
   ],
   "source": [
    "#CONVERTING THE PREDICTION AND LABEL DATA FRAME TO PANDAS FOR ACCURACY\n",
    "import numpy as np\n",
    "from sklearn.metrics import accuracy_score\n",
    "\n",
    "#USING TOPANDAS FUNCTION FOR CONVERSION\n",
    "y_true=predictions.toPandas()\n",
    "y_pred=predictions.toPandas()\n",
    "\n",
    "#USING ACCURACY FUNCTION TO FIND ACCURACY\n",
    "accuracy_score(y_true.label, y_pred.prediction)"
   ]
  },
  {
   "cell_type": "code",
   "execution_count": 133,
   "metadata": {},
   "outputs": [
    {
     "name": "stdout",
     "output_type": "stream",
     "text": [
      "Training Dataset Count: 3614\n",
      "Test Dataset Count: 1565\n"
     ]
    }
   ],
   "source": [
    "#Supervised learning\n",
    "#SPLITTING NORMALIZED DATA FRAME INTO 70% AND 30% RATIO\n",
    "train, test = df4.randomSplit([0.7, 0.3], seed = 742)\n",
    "print(\"Training Dataset Count: \" + str(train.count()))\n",
    "print(\"Test Dataset Count: \" + str(test.count()))"
   ]
  },
  {
   "cell_type": "code",
   "execution_count": 134,
   "metadata": {},
   "outputs": [],
   "source": [
    "#Logistic Regression Model\n",
    "#IMPORTING PACKAGES FOR LOGISTIC REGRESSION\n",
    "from pyspark.ml.classification import LogisticRegression\n",
    "from pyspark.ml.evaluation import MulticlassClassificationEvaluator\n",
    "from pyspark.ml.evaluation import BinaryClassificationEvaluator \n",
    "\n",
    "#FITTING A LOGISTIC REGRESSION MODEL TO TRAIN DATA USING NORMALIZED FEATURES\n",
    "lr = LogisticRegression(featuresCol = 'features_SCALED', labelCol = 'label', maxIter=10)\n",
    "lrModel = lr.fit(train)"
   ]
  },
  {
   "cell_type": "code",
   "execution_count": 135,
   "metadata": {},
   "outputs": [
    {
     "data": {
      "image/png": "[encoded data removed]",
      "text/plain": [
       "<Figure size 432x288 with 1 Axes>"
      ]
     },
     "metadata": {
      "needs_background": "light"
     },
     "output_type": "display_data"
    }
   ],
   "source": [
    "#SORTING AND PLOTTING ALL THE 23 COEFFICIENTS OF THE MODEL\n",
    "import matplotlib.pyplot as plt\n",
    "import numpy as np\n",
    "\n",
    "beta = np.sort(lrModel.coefficients)\n",
    "\n",
    "#PLOTTING AND LABELLING\n",
    "plt.plot(beta)\n",
    "plt.ylabel('Beta Coefficients')\n",
    "plt.show()"
   ]
  },
  {
   "cell_type": "code",
   "execution_count": 136,
   "metadata": {},
   "outputs": [
    {
     "name": "stdout",
     "output_type": "stream",
     "text": [
      "[-1.39614663 -1.02267672 -0.72512915 -0.22177824 -0.15558681 -0.15432261\n",
      " -0.13541909 -0.12665974 -0.12426962 -0.09848385 -0.04682312 -0.00259843\n",
      "  0.03482061  0.0915352   0.10902291  0.11924682  0.15284436  0.26152754\n",
      "  0.26217363  0.29308308  0.30551333  0.31414624  0.60747594  0.75522659\n",
      "  1.11399095  1.16148459]\n",
      "Coefficients: [0.09153519823615562,-0.22177824379774871,0.15284436070349716,-0.09848384784803903,-0.0025984327796556494,0.29308307673636047,0.6074759352568387,-0.7251291490557339,-0.13541909358158008,0.2621736298093767,0.26152753781141114,0.30551333145673015,0.3141462445875301,-0.04682311743615258,-0.12426962031603543,0.10902291049597662,0.03482060751275543,-0.15558680972818614,0.7552265927542142,-0.15432261184692958,-0.1266597440539545,0.11924681569354398,-1.0226767155894743,1.1614845921958123,-1.3961466281603634,1.113990954317301]\n",
      "Intercept: -1.021097994678477\n"
     ]
    }
   ],
   "source": [
    "#PRINTING COEFFICIENTS AND INTERCEPT FOR THE MODEL\n",
    "print(beta)\n",
    "\n",
    "print(\"Coefficients: \" + str(lrModel.coefficients))\n",
    "print(\"Intercept: \" + str(lrModel.intercept))"
   ]
  },
  {
   "cell_type": "code",
   "execution_count": 137,
   "metadata": {},
   "outputs": [
    {
     "data": {
      "image/png": "[encoded data removed]",
      "text/plain": [
       "<Figure size 432x288 with 1 Axes>"
      ]
     },
     "metadata": {
      "needs_background": "light"
     },
     "output_type": "display_data"
    },
    {
     "name": "stdout",
     "output_type": "stream",
     "text": [
      "Training set areaUnderROC: 0.8228241231842076\n"
     ]
    }
   ],
   "source": [
    "#CALCULATING ROC AND PLOTTING IT\n",
    "#USING SUMMARY FUNCTION TO GET ALL THE PARAMETERS\n",
    "trainingSummary = lrModel.summary\n",
    "\n",
    "roc = trainingSummary.roc.toPandas()\n",
    "plt.plot(roc['FPR'],roc['TPR'])\n",
    "plt.ylabel('False Positive Rate')\n",
    "plt.xlabel('True Positive Rate')\n",
    "plt.title('ROC Curve')\n",
    "plt.show()\n",
    "\n",
    "print('Training set areaUnderROC: ' + str(trainingSummary.areaUnderROC))"
   ]
  },
  {
   "cell_type": "code",
   "execution_count": 138,
   "metadata": {},
   "outputs": [
    {
     "data": {
      "image/png": "[encoded data removed]",
      "text/plain": [
       "<Figure size 432x288 with 1 Axes>"
      ]
     },
     "metadata": {
      "needs_background": "light"
     },
     "output_type": "display_data"
    }
   ],
   "source": [
    "#BETTER THE ROC BETTER THE MODEL\n",
    "#PLOTTING RECALL VS PRECISION GRAPH\n",
    "pr = trainingSummary.pr.toPandas()\n",
    "plt.plot(pr['recall'],pr['precision'])\n",
    "plt.ylabel('Precision')\n",
    "plt.xlabel('Recall')\n",
    "plt.show()"
   ]
  },
  {
   "cell_type": "code",
   "execution_count": 139,
   "metadata": {},
   "outputs": [
    {
     "name": "stdout",
     "output_type": "stream",
     "text": [
      "+--------------------+-----+--------------------+----------+--------------------+\n",
      "|            features|label|       rawPrediction|prediction|         probability|\n",
      "+--------------------+-----+--------------------+----------+--------------------+\n",
      "|(26,[0,10,12,18,2...|  0.0|[1.91018416577513...|       0.0|[0.87103983650575...|\n",
      "|(26,[0,10,12,18,2...|  0.0|[1.86716621791603...|       0.0|[0.86613004463381...|\n",
      "|(26,[0,10,12,18,2...|  0.0|[1.85282690196299...|       0.0|[0.86445867213545...|\n",
      "|(26,[0,10,12,18,2...|  0.0|[1.80980895410389...|       0.0|[0.85933878305638...|\n",
      "|(26,[0,10,12,18,2...|  0.0|[1.80980895410389...|       0.0|[0.85933878305638...|\n",
      "|(26,[0,10,12,18,2...|  0.0|[1.80980895410389...|       0.0|[0.85933878305638...|\n",
      "|(26,[0,10,12,18,2...|  0.0|[1.80980895410389...|       0.0|[0.85933878305638...|\n",
      "|(26,[0,10,12,18,2...|  0.0|[1.80980895410389...|       0.0|[0.85933878305638...|\n",
      "|(26,[0,10,12,18,2...|  0.0|[1.79546963815085...|       0.0|[0.85759656183502...|\n",
      "|(26,[0,10,12,18,2...|  0.0|[1.78113032219782...|       0.0|[0.85583638169265...|\n",
      "+--------------------+-----+--------------------+----------+--------------------+\n",
      "only showing top 10 rows\n",
      "\n"
     ]
    }
   ],
   "source": [
    "#CALCULATING PREDICTION AND PROBABILITY FOR ALL THE FEATURES\n",
    "predictionsLR = lrModel.transform(test)\n",
    "predictionsLR.select( 'features','label', 'rawPrediction', 'prediction', 'probability').show(10)"
   ]
  },
  {
   "cell_type": "code",
   "execution_count": 140,
   "metadata": {},
   "outputs": [
    {
     "name": "stdout",
     "output_type": "stream",
     "text": [
      "Test Area Under ROC 0.7907333682556312\n"
     ]
    }
   ],
   "source": [
    "#USING BINARYCLASS EVALUATOR FOR TEST AREA UNDER ROC CALCULATION\n",
    "#DEFAULT METRIC FOR BINARY CLASS IS AREA UNDER ROC\n",
    "\n",
    "from pyspark.ml.evaluation import BinaryClassificationEvaluator\n",
    "evaluator = BinaryClassificationEvaluator()\n",
    "print('Test Area Under ROC', evaluator.evaluate(predictionsLR))"
   ]
  },
  {
   "cell_type": "code",
   "execution_count": 141,
   "metadata": {},
   "outputs": [
    {
     "name": "stdout",
     "output_type": "stream",
     "text": [
      "+-----+----------+\n",
      "|label|prediction|\n",
      "+-----+----------+\n",
      "|  1.0|         0|\n",
      "|  0.0|         0|\n",
      "|  1.0|         0|\n",
      "|  0.0|         1|\n",
      "|  0.0|         0|\n",
      "+-----+----------+\n",
      "only showing top 5 rows\n",
      "\n"
     ]
    }
   ],
   "source": [
    "#PRINTING ONLY LABEL AND PREDICTION FOR ACCURACY CALCULATION\n",
    "accdf=predictions.select(\"label\",\"prediction\").show(5)"
   ]
  },
  {
   "cell_type": "code",
   "execution_count": 142,
   "metadata": {},
   "outputs": [
    {
     "name": "stdout",
     "output_type": "stream",
     "text": [
      "accuracy=0.803195\n"
     ]
    }
   ],
   "source": [
    "#MULTICLASS EVALUATOR FOR ACCURACY USING PREDICTION AND LABEL COLUMNS\n",
    "from pyspark.ml.evaluation import MulticlassClassificationEvaluator\n",
    "\n",
    "my_eval1 = MulticlassClassificationEvaluator(predictionCol='prediction',labelCol='label', metricName='accuracy')\n",
    "acc = my_eval1.evaluate(predictionsLR)\n",
    "print(\"accuracy=%g\" %(acc))"
   ]
  },
  {
   "cell_type": "code",
   "execution_count": 143,
   "metadata": {},
   "outputs": [
    {
     "name": "stdout",
     "output_type": "stream",
     "text": [
      "DenseMatrix([[1027.,  185.],\n",
      "             [ 123.,  230.]])\n"
     ]
    }
   ],
   "source": [
    "#CALCULATING CONFUSION MATRIX OF THE LR MODEL USING MULTICLASS METRICS\n",
    "from pyspark.mllib.evaluation import MulticlassMetrics\n",
    "predandlabel=predictionsLR.select( 'label', 'prediction').rdd\n",
    "metrics = MulticlassMetrics(predandlabel)\n",
    "print(metrics.confusionMatrix())"
   ]
  },
  {
   "cell_type": "code",
   "execution_count": 144,
   "metadata": {},
   "outputs": [
    {
     "name": "stdout",
     "output_type": "stream",
     "text": [
      "Logistic regression:precision,recall,f1score 0.8930434782608696 0.8473597359735974 0.869602032176122\n"
     ]
    }
   ],
   "source": [
    "#METRICS FOR PRECISION, RECALL AND F1SCORE\n",
    "cm=metrics.confusionMatrix().toArray()\n",
    "precision=(cm[0][0])/(cm[0][0]+cm[1][0])\n",
    "recall=(cm[0][0])/(cm[0][0]+cm[0][1])\n",
    "f1score =((2*precision*recall )/ (precision + recall))\n",
    "\n",
    "print(\"Logistic regression:precision,recall,f1score\",precision,recall,f1score)"
   ]
  },
  {
   "cell_type": "code",
   "execution_count": 145,
   "metadata": {},
   "outputs": [
    {
     "data": {
      "text/plain": [
       "<matplotlib.axes._subplots.AxesSubplot at 0x28b2c8d1198>"
      ]
     },
     "execution_count": 145,
     "metadata": {},
     "output_type": "execute_result"
    },
    {
     "data": {
      "image/png": "[encoded data removed]",
      "text/plain": [
       "<Figure size 432x288 with 2 Axes>"
      ]
     },
     "metadata": {
      "needs_background": "light"
     },
     "output_type": "display_data"
    }
   ],
   "source": [
    "#PLOTTING HEATMAP OF ALL THE METRICS PARAMETERS USING SEABORN PACKAGE\n",
    "import seaborn as sns\n",
    "sns.heatmap(cm, annot=True)"
   ]
  },
  {
   "cell_type": "code",
   "execution_count": null,
   "metadata": {},
   "outputs": [],
   "source": []
  }
 ],
 "metadata": {
  "kernelspec": {
   "display_name": "Python 3",
   "language": "python",
   "name": "python3"
  },
  "language_info": {
   "codemirror_mode": {
    "name": "ipython",
    "version": 3
   },
   "file_extension": ".py",
   "mimetype": "text/x-python",
   "name": "python",
   "nbconvert_exporter": "python",
   "pygments_lexer": "ipython3",
   "version": "3.7.3"
  }
 },
 "nbformat": 4,
 "nbformat_minor": 2
}
